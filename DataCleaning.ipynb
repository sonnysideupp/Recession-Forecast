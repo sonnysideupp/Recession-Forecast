{
 "cells": [
  {
   "cell_type": "markdown",
   "metadata": {},
   "source": [
    "# Data Cleaning"
   ]
  },
  {
   "cell_type": "code",
   "execution_count": 1,
   "metadata": {},
   "outputs": [],
   "source": [
    "#load libraries\n",
    "import pandas as pd\n",
    "import numpy as np\n",
    "import matplotlib.pyplot as plt \n",
    "\n",
    "from statsmodels.tsa.stattools import adfuller #to check unit root in time series \n",
    "from sklearn import preprocessing\n",
    "from sklearn.preprocessing import StandardScaler\n",
    "from sklearn.linear_model import LogisticRegression\n",
    "from sklearn.feature_selection import SelectFromModel\n",
    "\n",
    "import seaborn as sns #for correlation heatmap\n",
    "\n",
    "import warnings\n",
    "warnings.filterwarnings('ignore')"
   ]
  },
  {
   "cell_type": "code",
   "execution_count": 3,
   "metadata": {},
   "outputs": [
    {
     "data": {
      "text/html": [
       "<div>\n",
       "<style scoped>\n",
       "    .dataframe tbody tr th:only-of-type {\n",
       "        vertical-align: middle;\n",
       "    }\n",
       "\n",
       "    .dataframe tbody tr th {\n",
       "        vertical-align: top;\n",
       "    }\n",
       "\n",
       "    .dataframe thead th {\n",
       "        text-align: right;\n",
       "    }\n",
       "</style>\n",
       "<table border=\"1\" class=\"dataframe\">\n",
       "  <thead>\n",
       "    <tr style=\"text-align: right;\">\n",
       "      <th></th>\n",
       "      <th>Date</th>\n",
       "      <th>Regime</th>\n",
       "      <th>RPI</th>\n",
       "      <th>W875RX1</th>\n",
       "      <th>DPCERA3M086SBEA</th>\n",
       "      <th>CMRMTSPLx</th>\n",
       "      <th>RETAILx</th>\n",
       "      <th>INDPRO</th>\n",
       "      <th>IPFPNSS</th>\n",
       "      <th>IPFINAL</th>\n",
       "      <th>...</th>\n",
       "      <th>DNDGRG3M086SBEA</th>\n",
       "      <th>DSERRG3M086SBEA</th>\n",
       "      <th>CES0600000008</th>\n",
       "      <th>CES2000000008</th>\n",
       "      <th>CES3000000008</th>\n",
       "      <th>UMCSENTx</th>\n",
       "      <th>DTCOLNVHFNM</th>\n",
       "      <th>DTCTHFNM</th>\n",
       "      <th>INVEST</th>\n",
       "      <th>VIXCLSx</th>\n",
       "    </tr>\n",
       "  </thead>\n",
       "  <tbody>\n",
       "    <tr>\n",
       "      <th>0</th>\n",
       "      <td>1/1/1959</td>\n",
       "      <td>Normal</td>\n",
       "      <td>2583.560</td>\n",
       "      <td>2426.0</td>\n",
       "      <td>15.188</td>\n",
       "      <td>276676.8154</td>\n",
       "      <td>18235.77392</td>\n",
       "      <td>21.9616</td>\n",
       "      <td>23.3868</td>\n",
       "      <td>22.2620</td>\n",
       "      <td>...</td>\n",
       "      <td>18.294</td>\n",
       "      <td>10.152</td>\n",
       "      <td>2.13</td>\n",
       "      <td>2.45</td>\n",
       "      <td>2.04</td>\n",
       "      <td>NaN</td>\n",
       "      <td>6476.0</td>\n",
       "      <td>12298.0</td>\n",
       "      <td>84.2043</td>\n",
       "      <td>NaN</td>\n",
       "    </tr>\n",
       "    <tr>\n",
       "      <th>1</th>\n",
       "      <td>2/1/1959</td>\n",
       "      <td>Normal</td>\n",
       "      <td>2593.596</td>\n",
       "      <td>2434.8</td>\n",
       "      <td>15.346</td>\n",
       "      <td>278713.9773</td>\n",
       "      <td>18369.56308</td>\n",
       "      <td>22.3917</td>\n",
       "      <td>23.7024</td>\n",
       "      <td>22.4549</td>\n",
       "      <td>...</td>\n",
       "      <td>18.302</td>\n",
       "      <td>10.167</td>\n",
       "      <td>2.14</td>\n",
       "      <td>2.46</td>\n",
       "      <td>2.05</td>\n",
       "      <td>NaN</td>\n",
       "      <td>6476.0</td>\n",
       "      <td>12298.0</td>\n",
       "      <td>83.5280</td>\n",
       "      <td>NaN</td>\n",
       "    </tr>\n",
       "    <tr>\n",
       "      <th>2</th>\n",
       "      <td>3/1/1959</td>\n",
       "      <td>Normal</td>\n",
       "      <td>2610.396</td>\n",
       "      <td>2452.7</td>\n",
       "      <td>15.491</td>\n",
       "      <td>277775.2539</td>\n",
       "      <td>18523.05762</td>\n",
       "      <td>22.7142</td>\n",
       "      <td>23.8459</td>\n",
       "      <td>22.5651</td>\n",
       "      <td>...</td>\n",
       "      <td>18.289</td>\n",
       "      <td>10.185</td>\n",
       "      <td>2.15</td>\n",
       "      <td>2.45</td>\n",
       "      <td>2.07</td>\n",
       "      <td>NaN</td>\n",
       "      <td>6508.0</td>\n",
       "      <td>12349.0</td>\n",
       "      <td>81.6405</td>\n",
       "      <td>NaN</td>\n",
       "    </tr>\n",
       "    <tr>\n",
       "      <th>3</th>\n",
       "      <td>4/1/1959</td>\n",
       "      <td>Normal</td>\n",
       "      <td>2627.446</td>\n",
       "      <td>2470.0</td>\n",
       "      <td>15.435</td>\n",
       "      <td>283362.7075</td>\n",
       "      <td>18534.46600</td>\n",
       "      <td>23.1981</td>\n",
       "      <td>24.1903</td>\n",
       "      <td>22.8957</td>\n",
       "      <td>...</td>\n",
       "      <td>18.300</td>\n",
       "      <td>10.221</td>\n",
       "      <td>2.16</td>\n",
       "      <td>2.47</td>\n",
       "      <td>2.08</td>\n",
       "      <td>NaN</td>\n",
       "      <td>6620.0</td>\n",
       "      <td>12484.0</td>\n",
       "      <td>81.8099</td>\n",
       "      <td>NaN</td>\n",
       "    </tr>\n",
       "    <tr>\n",
       "      <th>4</th>\n",
       "      <td>5/1/1959</td>\n",
       "      <td>Normal</td>\n",
       "      <td>2642.720</td>\n",
       "      <td>2486.4</td>\n",
       "      <td>15.622</td>\n",
       "      <td>285307.2201</td>\n",
       "      <td>18679.66354</td>\n",
       "      <td>23.5476</td>\n",
       "      <td>24.3911</td>\n",
       "      <td>23.1161</td>\n",
       "      <td>...</td>\n",
       "      <td>18.280</td>\n",
       "      <td>10.238</td>\n",
       "      <td>2.17</td>\n",
       "      <td>2.48</td>\n",
       "      <td>2.08</td>\n",
       "      <td>95.3</td>\n",
       "      <td>6753.0</td>\n",
       "      <td>12646.0</td>\n",
       "      <td>80.7315</td>\n",
       "      <td>NaN</td>\n",
       "    </tr>\n",
       "  </tbody>\n",
       "</table>\n",
       "<p>5 rows × 128 columns</p>\n",
       "</div>"
      ],
      "text/plain": [
       "       Date  Regime       RPI  W875RX1  DPCERA3M086SBEA    CMRMTSPLx  \\\n",
       "0  1/1/1959  Normal  2583.560   2426.0           15.188  276676.8154   \n",
       "1  2/1/1959  Normal  2593.596   2434.8           15.346  278713.9773   \n",
       "2  3/1/1959  Normal  2610.396   2452.7           15.491  277775.2539   \n",
       "3  4/1/1959  Normal  2627.446   2470.0           15.435  283362.7075   \n",
       "4  5/1/1959  Normal  2642.720   2486.4           15.622  285307.2201   \n",
       "\n",
       "       RETAILx   INDPRO  IPFPNSS  IPFINAL  ...  DNDGRG3M086SBEA  \\\n",
       "0  18235.77392  21.9616  23.3868  22.2620  ...           18.294   \n",
       "1  18369.56308  22.3917  23.7024  22.4549  ...           18.302   \n",
       "2  18523.05762  22.7142  23.8459  22.5651  ...           18.289   \n",
       "3  18534.46600  23.1981  24.1903  22.8957  ...           18.300   \n",
       "4  18679.66354  23.5476  24.3911  23.1161  ...           18.280   \n",
       "\n",
       "   DSERRG3M086SBEA  CES0600000008  CES2000000008  CES3000000008  UMCSENTx  \\\n",
       "0           10.152           2.13           2.45           2.04       NaN   \n",
       "1           10.167           2.14           2.46           2.05       NaN   \n",
       "2           10.185           2.15           2.45           2.07       NaN   \n",
       "3           10.221           2.16           2.47           2.08       NaN   \n",
       "4           10.238           2.17           2.48           2.08      95.3   \n",
       "\n",
       "   DTCOLNVHFNM  DTCTHFNM   INVEST  VIXCLSx  \n",
       "0       6476.0   12298.0  84.2043      NaN  \n",
       "1       6476.0   12298.0  83.5280      NaN  \n",
       "2       6508.0   12349.0  81.6405      NaN  \n",
       "3       6620.0   12484.0  81.8099      NaN  \n",
       "4       6753.0   12646.0  80.7315      NaN  \n",
       "\n",
       "[5 rows x 128 columns]"
      ]
     },
     "execution_count": 3,
     "metadata": {},
     "output_type": "execute_result"
    }
   ],
   "source": [
    "bigmacrodata=pd.read_csv(\"data/Macroeconomic_Variables.csv\")\n",
    "bigmacrodata=bigmacrodata.rename(columns={'sasdate':'Date'})\n",
    "Recession_periods=pd.read_csv('data/Recession_Periods.csv')\n",
    "bigmacrodata.insert(loc=1,column=\"Regime\", value=Recession_periods['Regime'].values)\n",
    "bigmacrodata.head()"
   ]
  },
  {
   "cell_type": "markdown",
   "metadata": {},
   "source": [
    "We will follow the steps below to clean data and make it ready for feature selection process.\n",
    "\n",
    "1. Remove the variables with missing observations\n",
    "2. Add lags of the variables as additional features\n",
    "3. Test stationarity of time series\n",
    "4. Standardize the dataset"
   ]
  },
  {
   "cell_type": "code",
   "execution_count": 4,
   "metadata": {},
   "outputs": [
    {
     "name": "stdout",
     "output_type": "stream",
     "text": [
      "CMRMTSPLx:1\n",
      "HWI:1\n",
      "HWIURATIO:1\n",
      "PERMIT:12\n",
      "PERMITNE:12\n",
      "PERMITMW:12\n",
      "PERMITS:12\n",
      "PERMITW:12\n",
      "ACOGNO:398\n",
      "ANDENOx:109\n",
      "BUSINVx:1\n",
      "ISRATIOx:1\n",
      "NONREVSL:1\n",
      "CONSPI:1\n",
      "S&P div yield:2\n",
      "S&P PE ratio:1\n",
      "CP3Mx:1\n",
      "COMPAPFFx:1\n",
      "TWEXAFEGSMTHx:168\n",
      "UMCSENTx:154\n",
      "DTCOLNVHFNM:1\n",
      "DTCTHFNM:1\n",
      "VIXCLSx:42\n",
      "23\n"
     ]
    },
    {
     "data": {
      "text/plain": [
       "(788, 105)"
      ]
     },
     "execution_count": 4,
     "metadata": {},
     "output_type": "execute_result"
    }
   ],
   "source": [
    "#remove columns with missing observations\n",
    "missing_colnames=[]\n",
    "for i in bigmacrodata.drop(['Date','Regime'],axis=1):\n",
    "    observations=len(bigmacrodata)-bigmacrodata[i].count()\n",
    "    if (observations>0):\n",
    "        print(i+':'+str(observations))\n",
    "        missing_colnames.append(i)\n",
    "\n",
    "print(len(missing_colnames))\n",
    "bigmacrodata=bigmacrodata.drop(labels=missing_colnames, axis=1)\n",
    "\n",
    "#rows with missing values\n",
    "bigmacrodata=bigmacrodata.dropna(axis=0)\n",
    "\n",
    "bigmacrodata.shape"
   ]
  },
  {
   "cell_type": "code",
   "execution_count": 5,
   "metadata": {},
   "outputs": [],
   "source": [
    "# Add lags\n",
    "for col in bigmacrodata.drop(['Date', 'Regime'], axis=1):\n",
    "    for n in [3,6,9,12,18]:\n",
    "        bigmacrodata['{} {}M lag'.format(col, n)] = bigmacrodata[col].shift(n).ffill().values\n",
    "\n",
    "# 1 month ahead prediction\n",
    "bigmacrodata[\"Regime\"]=bigmacrodata[\"Regime\"].shift(-1)\n",
    "\n",
    "bigmacrodata=bigmacrodata.dropna(axis=0)"
   ]
  },
  {
   "cell_type": "code",
   "execution_count": 6,
   "metadata": {},
   "outputs": [
    {
     "data": {
      "text/plain": [
       "(769, 620)"
      ]
     },
     "execution_count": 6,
     "metadata": {},
     "output_type": "execute_result"
    }
   ],
   "source": [
    "bigmacrodata.shape"
   ]
  },
  {
   "cell_type": "code",
   "execution_count": 7,
   "metadata": {},
   "outputs": [],
   "source": [
    "#check stationarity\n",
    "threshold=0.01 #significance level\n",
    "for column in bigmacrodata.drop(['Date','Regime'], axis=1):\n",
    "    result=adfuller(bigmacrodata[column])\n",
    "    if result[1]>threshold:\n",
    "        # use first difference to make series statinary\n",
    "        bigmacrodata[column]=bigmacrodata[column].diff()\n",
    "bigmacrodata=bigmacrodata.dropna(axis=0)"
   ]
  },
  {
   "cell_type": "code",
   "execution_count": 8,
   "metadata": {},
   "outputs": [],
   "source": [
    "threshold=0.01 #significance level\n",
    "for column in bigmacrodata.drop(['Date','Regime'], axis=1):\n",
    "    result=adfuller(bigmacrodata[column])\n",
    "    if result[1]>threshold:\n",
    "        # use first difference again to make series statinary\n",
    "        bigmacrodata[column]=bigmacrodata[column].diff()\n",
    "bigmacrodata=bigmacrodata.dropna(axis=0)"
   ]
  },
  {
   "cell_type": "code",
   "execution_count": 9,
   "metadata": {},
   "outputs": [
    {
     "data": {
      "text/plain": [
       "(767, 620)"
      ]
     },
     "execution_count": 9,
     "metadata": {},
     "output_type": "execute_result"
    }
   ],
   "source": [
    "# Standardize\n",
    "features=bigmacrodata.drop(['Date','Regime'],axis=1)\n",
    "col_names=features.columns\n",
    "\n",
    "scaler=StandardScaler()\n",
    "scaler.fit(features)\n",
    "standardized_features=scaler.transform(features)\n",
    "standardized_features.shape\n",
    "df=pd.DataFrame(data=standardized_features,columns=col_names)\n",
    "df.insert(loc=0,column=\"Date\", value=bigmacrodata['Date'].values)\n",
    "df.insert(loc=1,column='Regime', value=bigmacrodata['Regime'].values)\n",
    "df.head()\n",
    "df.shape"
   ]
  },
  {
   "cell_type": "code",
   "execution_count": 11,
   "metadata": {},
   "outputs": [],
   "source": [
    "# writing cleaned data to new csv\n",
    "\n",
    "df.to_csv(\"data/Dataset_Cleaned.csv\", index=False)"
   ]
  }
 ],
 "metadata": {
  "kernelspec": {
   "display_name": "Python 3",
   "language": "python",
   "name": "python3"
  },
  "language_info": {
   "codemirror_mode": {
    "name": "ipython",
    "version": 3
   },
   "file_extension": ".py",
   "mimetype": "text/x-python",
   "name": "python",
   "nbconvert_exporter": "python",
   "pygments_lexer": "ipython3",
   "version": "3.12.5"
  }
 },
 "nbformat": 4,
 "nbformat_minor": 2
}
